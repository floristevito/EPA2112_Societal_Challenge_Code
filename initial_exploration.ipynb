{
 "cells": [
  {
   "cell_type": "code",
   "execution_count": null,
   "source": [
    "import pandas as pd \r\n",
    "import numpy as np \r\n",
    "import geopandas as gpd"
   ],
   "outputs": [],
   "metadata": {}
  },
  {
   "cell_type": "code",
   "execution_count": null,
   "source": [
    "# data about demographics spatially\r\n",
    "\r\n",
    "dem = gpd.read_file(\"data/ruimtelijkekengetallen2020.json\")"
   ],
   "outputs": [],
   "metadata": {}
  }
 ],
 "metadata": {
  "orig_nbformat": 4,
  "language_info": {
   "name": "python",
   "version": "3.9.2"
  },
  "kernelspec": {
   "name": "python3",
   "display_name": "Python 3.9.2 64-bit ('default': conda)"
  },
  "interpreter": {
   "hash": "5ae0648b8b561bc0e1f5089eb9315f2f89b2a9f1f5f5e6dc31cc4a12cfe1dc87"
  }
 },
 "nbformat": 4,
 "nbformat_minor": 2
}